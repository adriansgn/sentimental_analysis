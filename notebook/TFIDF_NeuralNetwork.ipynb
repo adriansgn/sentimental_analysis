{
 "cells": [
  {
   "cell_type": "code",
   "execution_count": 1,
   "id": "26932adc",
   "metadata": {},
   "outputs": [],
   "source": [
    "import re\n",
    "import string\n",
    "import torch\n",
    "from torch import nn\n",
    "import numpy as np\n",
    "import pandas as pd\n",
    "from sklearn.model_selection import train_test_split\n",
    "from sklearn.feature_extraction.text import TfidfVectorizer\n",
    "import scipy\n",
    "from torch import optim\n",
    "import matplotlib.pyplot as plt\n",
    "from torch.utils.data import Dataset, DataLoader\n",
    "from tqdm import tqdm\n",
    "from torch.optim.lr_scheduler import ReduceLROnPlateau\n",
    "from sklearn.metrics import accuracy_score\n",
    "from sklearn.metrics import f1_score\n",
    "from nltk.stem import WordNetLemmatizer\n",
    "import nltk"
   ]
  },
  {
   "cell_type": "code",
   "execution_count": 2,
   "id": "2baa8e14",
   "metadata": {},
   "outputs": [],
   "source": [
    "device = \"cpu\""
   ]
  },
  {
   "cell_type": "code",
   "execution_count": 3,
   "id": "c4bab239",
   "metadata": {},
   "outputs": [],
   "source": [
    "df = pd.read_csv('twitter_cleaned.csv')\n",
    "df = df.dropna()"
   ]
  },
  {
   "cell_type": "code",
   "execution_count": 4,
   "id": "6aeae90a",
   "metadata": {},
   "outputs": [
    {
     "data": {
      "text/html": [
       "<div>\n",
       "<style scoped>\n",
       "    .dataframe tbody tr th:only-of-type {\n",
       "        vertical-align: middle;\n",
       "    }\n",
       "\n",
       "    .dataframe tbody tr th {\n",
       "        vertical-align: top;\n",
       "    }\n",
       "\n",
       "    .dataframe thead th {\n",
       "        text-align: right;\n",
       "    }\n",
       "</style>\n",
       "<table border=\"1\" class=\"dataframe\">\n",
       "  <thead>\n",
       "    <tr style=\"text-align: right;\">\n",
       "      <th></th>\n",
       "      <th>label</th>\n",
       "      <th>message</th>\n",
       "      <th>category</th>\n",
       "    </tr>\n",
       "  </thead>\n",
       "  <tbody>\n",
       "    <tr>\n",
       "      <th>0</th>\n",
       "      <td>neutral</td>\n",
       "      <td>prenatal move to wednesday at pm starting toni...</td>\n",
       "      <td>1</td>\n",
       "    </tr>\n",
       "    <tr>\n",
       "      <th>1</th>\n",
       "      <td>positive</td>\n",
       "      <td>happy nd birthday to prince george i cant beli...</td>\n",
       "      <td>2</td>\n",
       "    </tr>\n",
       "    <tr>\n",
       "      <th>2</th>\n",
       "      <td>positive</td>\n",
       "      <td>do not be afraid to be saint be open to the lo...</td>\n",
       "      <td>2</td>\n",
       "    </tr>\n",
       "    <tr>\n",
       "      <th>3</th>\n",
       "      <td>neutral</td>\n",
       "      <td>dst is saturday nightsunday morning got ta be ...</td>\n",
       "      <td>1</td>\n",
       "    </tr>\n",
       "    <tr>\n",
       "      <th>4</th>\n",
       "      <td>negative</td>\n",
       "      <td>sony reward app is like a lot of yo female sin...</td>\n",
       "      <td>0</td>\n",
       "    </tr>\n",
       "  </tbody>\n",
       "</table>\n",
       "</div>"
      ],
      "text/plain": [
       "      label                                            message  category\n",
       "0   neutral  prenatal move to wednesday at pm starting toni...         1\n",
       "1  positive  happy nd birthday to prince george i cant beli...         2\n",
       "2  positive  do not be afraid to be saint be open to the lo...         2\n",
       "3   neutral  dst is saturday nightsunday morning got ta be ...         1\n",
       "4  negative  sony reward app is like a lot of yo female sin...         0"
      ]
     },
     "execution_count": 4,
     "metadata": {},
     "output_type": "execute_result"
    }
   ],
   "source": [
    "df.head()"
   ]
  },
  {
   "cell_type": "code",
   "execution_count": 5,
   "id": "a1b1562a",
   "metadata": {},
   "outputs": [
    {
     "name": "stdout",
     "output_type": "stream",
     "text": [
      "(39740,) (9935,) (39740,) (9935,)\n"
     ]
    }
   ],
   "source": [
    "x_train, x_test, y_train, y_test = train_test_split(\n",
    "    df['message'], df['category'], test_size=.2, stratify=df['label'])\n",
    "\n",
    "print(x_train.shape, x_test.shape, y_train.shape, y_test.shape)"
   ]
  },
  {
   "cell_type": "code",
   "execution_count": 6,
   "id": "516af63c",
   "metadata": {},
   "outputs": [],
   "source": [
    "vectorizer = TfidfVectorizer(max_features=2000)\n",
    "# vectorizer = TfidfVectorizer(max_features=1500, stop_words='english')\n",
    "\n",
    "# Learn vocabulary from training texts and vectorize training texts.\n",
    "x_train = vectorizer.fit_transform(x_train)\n",
    "\n",
    "# Vectorize test texts.\n",
    "x_test = vectorizer.transform(x_test)"
   ]
  },
  {
   "cell_type": "code",
   "execution_count": 7,
   "id": "349e550e",
   "metadata": {},
   "outputs": [],
   "source": [
    "x_train = torch.tensor(scipy.sparse.csr_matrix.todense(x_train)).float()\n",
    "x_test = torch.tensor(scipy.sparse.csr_matrix.todense(x_test)).float()"
   ]
  },
  {
   "cell_type": "code",
   "execution_count": 8,
   "id": "4ad06c31",
   "metadata": {},
   "outputs": [],
   "source": [
    "y_train = torch.tensor(y_train.values)\n",
    "y_test = torch.tensor(y_test.values)"
   ]
  },
  {
   "cell_type": "code",
   "execution_count": 9,
   "id": "54866aa9",
   "metadata": {},
   "outputs": [],
   "source": [
    "def topk_encoding(nd_array):\n",
    "    \"\"\"\n",
    "    Function to flatten the predicted category\n",
    "    \"\"\"\n",
    "    \n",
    "    predictions = nd_array\n",
    "    \n",
    "    ps = torch.exp(predictions)\n",
    "    top_p, top_class  = ps.topk(1, dim=1)\n",
    "    \n",
    "\n",
    "    return top_class"
   ]
  },
  {
   "cell_type": "code",
   "execution_count": 10,
   "id": "dfa9fadd",
   "metadata": {},
   "outputs": [],
   "source": [
    "class NeuralNetwork(nn.Module):\n",
    "    def __init__(self, in_dim, out_dim):\n",
    "        super().__init__()\n",
    "        self.in_dim = in_dim\n",
    "        self.out_dim = out_dim\n",
    "        \n",
    "        self.hidden_layer_1 = nn.Linear(x_train.shape[1], 64) # input to first hidden layer\n",
    "        self.output_layer = nn.Linear(64, self.out_dim)\n",
    "        self.activation = nn.ReLU()\n",
    "        self.dropout = nn.Dropout(0.1)\n",
    "        self.softmax = nn.LogSoftmax(dim=1)\n",
    "    \n",
    "    def forward(self, x):\n",
    "        x = self.hidden_layer_1(x)\n",
    "        x = self.activation(x)\n",
    "        x = self.dropout(x)\n",
    "        \n",
    "        y = self.output_layer(x)\n",
    "        y = self.activation(y)\n",
    "        y = self.softmax(y)\n",
    "        \n",
    "        return y"
   ]
  },
  {
   "cell_type": "code",
   "execution_count": 11,
   "id": "371e2c9e",
   "metadata": {},
   "outputs": [],
   "source": [
    "model = NeuralNetwork(x_train.shape[1], df['category'].nunique())\n",
    "# model = NeuralNetwork(x_train.shape[1], 5)\n",
    "\n",
    "\n",
    "# Define the loss\n",
    "criterion = nn.NLLLoss()\n",
    "\n",
    "\n",
    "# Optimizers require the parameters to optimize and a learning rate\n",
    "optimizer = optim.Adam(model.parameters(), lr=0.002)\n",
    "\n",
    "#setting up scheduler\n",
    "# scheduler = ReduceLROnPlateau(optimizer, 'min', patience = 10)"
   ]
  },
  {
   "cell_type": "code",
   "execution_count": 12,
   "id": "b6f106f5",
   "metadata": {},
   "outputs": [
    {
     "name": "stdout",
     "output_type": "stream",
     "text": [
      "Epoch: 1/200..  Training Loss: 1.099..  Test Loss: 1.099..  Test Accuracy: 0.163\n",
      "Epoch: 2/200..  Training Loss: 1.099..  Test Loss: 1.098..  Test Accuracy: 0.303\n",
      "Epoch: 3/200..  Training Loss: 1.098..  Test Loss: 1.097..  Test Accuracy: 0.440\n",
      "Epoch: 4/200..  Training Loss: 1.097..  Test Loss: 1.095..  Test Accuracy: 0.448\n",
      "Epoch: 5/200..  Training Loss: 1.095..  Test Loss: 1.093..  Test Accuracy: 0.448\n",
      "Epoch: 6/200..  Training Loss: 1.093..  Test Loss: 1.091..  Test Accuracy: 0.448\n",
      "Epoch: 7/200..  Training Loss: 1.091..  Test Loss: 1.089..  Test Accuracy: 0.448\n",
      "Epoch: 8/200..  Training Loss: 1.089..  Test Loss: 1.087..  Test Accuracy: 0.448\n",
      "Epoch: 9/200..  Training Loss: 1.087..  Test Loss: 1.085..  Test Accuracy: 0.448\n",
      "Epoch: 10/200..  Training Loss: 1.084..  Test Loss: 1.082..  Test Accuracy: 0.448\n",
      "Epoch: 11/200..  Training Loss: 1.082..  Test Loss: 1.080..  Test Accuracy: 0.448\n",
      "Epoch: 12/200..  Training Loss: 1.079..  Test Loss: 1.077..  Test Accuracy: 0.448\n",
      "Epoch: 13/200..  Training Loss: 1.076..  Test Loss: 1.075..  Test Accuracy: 0.448\n",
      "Epoch: 14/200..  Training Loss: 1.074..  Test Loss: 1.072..  Test Accuracy: 0.448\n",
      "Epoch: 15/200..  Training Loss: 1.071..  Test Loss: 1.070..  Test Accuracy: 0.448\n",
      "Epoch: 16/200..  Training Loss: 1.068..  Test Loss: 1.067..  Test Accuracy: 0.448\n",
      "Epoch: 17/200..  Training Loss: 1.066..  Test Loss: 1.065..  Test Accuracy: 0.448\n",
      "Epoch: 18/200..  Training Loss: 1.063..  Test Loss: 1.062..  Test Accuracy: 0.448\n",
      "Epoch: 19/200..  Training Loss: 1.060..  Test Loss: 1.060..  Test Accuracy: 0.448\n",
      "Epoch: 20/200..  Training Loss: 1.057..  Test Loss: 1.057..  Test Accuracy: 0.448\n",
      "Epoch: 21/200..  Training Loss: 1.054..  Test Loss: 1.055..  Test Accuracy: 0.448\n",
      "Epoch: 22/200..  Training Loss: 1.051..  Test Loss: 1.052..  Test Accuracy: 0.448\n",
      "Epoch: 23/200..  Training Loss: 1.048..  Test Loss: 1.050..  Test Accuracy: 0.448\n",
      "Epoch: 24/200..  Training Loss: 1.046..  Test Loss: 1.047..  Test Accuracy: 0.449\n",
      "Epoch: 25/200..  Training Loss: 1.043..  Test Loss: 1.045..  Test Accuracy: 0.449\n",
      "Epoch: 26/200..  Training Loss: 1.040..  Test Loss: 1.043..  Test Accuracy: 0.449\n",
      "Epoch: 27/200..  Training Loss: 1.038..  Test Loss: 1.040..  Test Accuracy: 0.449\n",
      "Epoch: 28/200..  Training Loss: 1.035..  Test Loss: 1.038..  Test Accuracy: 0.449\n",
      "Epoch: 29/200..  Training Loss: 1.032..  Test Loss: 1.036..  Test Accuracy: 0.450\n",
      "Epoch: 30/200..  Training Loss: 1.030..  Test Loss: 1.034..  Test Accuracy: 0.449\n",
      "Epoch: 31/200..  Training Loss: 1.027..  Test Loss: 1.032..  Test Accuracy: 0.449\n",
      "Epoch: 32/200..  Training Loss: 1.024..  Test Loss: 1.030..  Test Accuracy: 0.450\n",
      "Epoch: 33/200..  Training Loss: 1.022..  Test Loss: 1.028..  Test Accuracy: 0.450\n",
      "Epoch: 34/200..  Training Loss: 1.019..  Test Loss: 1.026..  Test Accuracy: 0.450\n",
      "Epoch: 35/200..  Training Loss: 1.017..  Test Loss: 1.025..  Test Accuracy: 0.450\n",
      "Epoch: 36/200..  Training Loss: 1.015..  Test Loss: 1.023..  Test Accuracy: 0.450\n",
      "Epoch: 37/200..  Training Loss: 1.012..  Test Loss: 1.022..  Test Accuracy: 0.449\n",
      "Epoch: 38/200..  Training Loss: 1.010..  Test Loss: 1.020..  Test Accuracy: 0.448\n",
      "Epoch: 39/200..  Training Loss: 1.008..  Test Loss: 1.019..  Test Accuracy: 0.448\n",
      "Epoch: 40/200..  Training Loss: 1.006..  Test Loss: 1.017..  Test Accuracy: 0.448\n",
      "Epoch: 41/200..  Training Loss: 1.004..  Test Loss: 1.016..  Test Accuracy: 0.448\n",
      "Epoch: 42/200..  Training Loss: 1.002..  Test Loss: 1.015..  Test Accuracy: 0.448\n",
      "Epoch: 43/200..  Training Loss: 1.000..  Test Loss: 1.014..  Test Accuracy: 0.448\n",
      "Epoch: 44/200..  Training Loss: 0.998..  Test Loss: 1.013..  Test Accuracy: 0.448\n",
      "Epoch: 45/200..  Training Loss: 0.997..  Test Loss: 1.012..  Test Accuracy: 0.447\n",
      "Epoch: 46/200..  Training Loss: 0.995..  Test Loss: 1.011..  Test Accuracy: 0.446\n",
      "Epoch: 47/200..  Training Loss: 0.993..  Test Loss: 1.010..  Test Accuracy: 0.446\n",
      "Epoch: 48/200..  Training Loss: 0.992..  Test Loss: 1.010..  Test Accuracy: 0.445\n",
      "Epoch: 49/200..  Training Loss: 0.990..  Test Loss: 1.009..  Test Accuracy: 0.445\n",
      "Epoch: 50/200..  Training Loss: 0.989..  Test Loss: 1.008..  Test Accuracy: 0.443\n",
      "Epoch: 51/200..  Training Loss: 0.987..  Test Loss: 1.008..  Test Accuracy: 0.444\n",
      "Epoch: 52/200..  Training Loss: 0.986..  Test Loss: 1.007..  Test Accuracy: 0.444\n",
      "Epoch: 53/200..  Training Loss: 0.985..  Test Loss: 1.007..  Test Accuracy: 0.443\n",
      "Epoch: 54/200..  Training Loss: 0.984..  Test Loss: 1.006..  Test Accuracy: 0.442\n",
      "Epoch: 55/200..  Training Loss: 0.983..  Test Loss: 1.006..  Test Accuracy: 0.442\n",
      "Epoch: 56/200..  Training Loss: 0.981..  Test Loss: 1.005..  Test Accuracy: 0.442\n",
      "Epoch: 57/200..  Training Loss: 0.980..  Test Loss: 1.005..  Test Accuracy: 0.442\n",
      "Epoch: 58/200..  Training Loss: 0.979..  Test Loss: 1.005..  Test Accuracy: 0.441\n",
      "Epoch: 59/200..  Training Loss: 0.979..  Test Loss: 1.005..  Test Accuracy: 0.441\n",
      "Epoch: 60/200..  Training Loss: 0.978..  Test Loss: 1.004..  Test Accuracy: 0.440\n",
      "Epoch: 61/200..  Training Loss: 0.977..  Test Loss: 1.004..  Test Accuracy: 0.440\n",
      "Epoch: 62/200..  Training Loss: 0.976..  Test Loss: 1.004..  Test Accuracy: 0.440\n",
      "Epoch: 63/200..  Training Loss: 0.974..  Test Loss: 1.004..  Test Accuracy: 0.440\n",
      "Epoch: 64/200..  Training Loss: 0.974..  Test Loss: 1.003..  Test Accuracy: 0.439\n",
      "Epoch: 65/200..  Training Loss: 0.973..  Test Loss: 1.003..  Test Accuracy: 0.439\n",
      "Epoch: 66/200..  Training Loss: 0.972..  Test Loss: 1.003..  Test Accuracy: 0.438\n",
      "Epoch: 67/200..  Training Loss: 0.971..  Test Loss: 1.003..  Test Accuracy: 0.438\n",
      "Epoch: 68/200..  Training Loss: 0.971..  Test Loss: 1.003..  Test Accuracy: 0.437\n",
      "Epoch: 69/200..  Training Loss: 0.971..  Test Loss: 1.003..  Test Accuracy: 0.437\n",
      "Epoch: 70/200..  Training Loss: 0.970..  Test Loss: 1.003..  Test Accuracy: 0.436\n",
      "Epoch: 71/200..  Training Loss: 0.969..  Test Loss: 1.003..  Test Accuracy: 0.436\n",
      "Epoch: 72/200..  Training Loss: 0.968..  Test Loss: 1.003..  Test Accuracy: 0.436\n",
      "Epoch: 73/200..  Training Loss: 0.968..  Test Loss: 1.003..  Test Accuracy: 0.436\n",
      "Epoch: 74/200..  Training Loss: 0.967..  Test Loss: 1.003..  Test Accuracy: 0.436\n",
      "Epoch: 75/200..  Training Loss: 0.967..  Test Loss: 1.003..  Test Accuracy: 0.435\n",
      "Epoch: 76/200..  Training Loss: 0.966..  Test Loss: 1.002..  Test Accuracy: 0.436\n",
      "Epoch: 77/200..  Training Loss: 0.966..  Test Loss: 1.002..  Test Accuracy: 0.435\n",
      "Epoch: 78/200..  Training Loss: 0.965..  Test Loss: 1.002..  Test Accuracy: 0.435\n",
      "Epoch: 79/200..  Training Loss: 0.964..  Test Loss: 1.002..  Test Accuracy: 0.435\n",
      "Epoch: 80/200..  Training Loss: 0.964..  Test Loss: 1.002..  Test Accuracy: 0.434\n",
      "Epoch: 81/200..  Training Loss: 0.964..  Test Loss: 1.002..  Test Accuracy: 0.434\n",
      "Epoch: 82/200..  Training Loss: 0.963..  Test Loss: 1.002..  Test Accuracy: 0.434\n",
      "Epoch: 83/200..  Training Loss: 0.962..  Test Loss: 1.002..  Test Accuracy: 0.433\n",
      "Epoch: 84/200..  Training Loss: 0.962..  Test Loss: 1.002..  Test Accuracy: 0.433\n",
      "Epoch: 85/200..  Training Loss: 0.962..  Test Loss: 1.002..  Test Accuracy: 0.432\n",
      "Epoch: 86/200..  Training Loss: 0.962..  Test Loss: 1.002..  Test Accuracy: 0.433\n",
      "Epoch: 87/200..  Training Loss: 0.961..  Test Loss: 1.002..  Test Accuracy: 0.433\n",
      "Epoch: 88/200..  Training Loss: 0.961..  Test Loss: 1.002..  Test Accuracy: 0.432\n",
      "Epoch: 89/200..  Training Loss: 0.960..  Test Loss: 1.002..  Test Accuracy: 0.432\n",
      "Epoch: 90/200..  Training Loss: 0.960..  Test Loss: 1.002..  Test Accuracy: 0.431\n",
      "Epoch: 91/200..  Training Loss: 0.959..  Test Loss: 1.002..  Test Accuracy: 0.431\n",
      "Epoch: 92/200..  Training Loss: 0.959..  Test Loss: 1.002..  Test Accuracy: 0.430\n",
      "Epoch: 93/200..  Training Loss: 0.959..  Test Loss: 1.002..  Test Accuracy: 0.430\n",
      "Epoch: 94/200..  Training Loss: 0.958..  Test Loss: 1.002..  Test Accuracy: 0.430\n",
      "Epoch: 95/200..  Training Loss: 0.957..  Test Loss: 1.002..  Test Accuracy: 0.430\n",
      "Epoch: 96/200..  Training Loss: 0.957..  Test Loss: 1.002..  Test Accuracy: 0.430\n",
      "Epoch: 97/200..  Training Loss: 0.957..  Test Loss: 1.002..  Test Accuracy: 0.430\n",
      "Epoch: 98/200..  Training Loss: 0.956..  Test Loss: 1.002..  Test Accuracy: 0.430\n",
      "Epoch: 99/200..  Training Loss: 0.956..  Test Loss: 1.002..  Test Accuracy: 0.430\n",
      "Epoch: 100/200..  Training Loss: 0.956..  Test Loss: 1.002..  Test Accuracy: 0.430\n",
      "Epoch: 101/200..  Training Loss: 0.956..  Test Loss: 1.002..  Test Accuracy: 0.429\n",
      "Epoch: 102/200..  Training Loss: 0.955..  Test Loss: 1.002..  Test Accuracy: 0.429\n"
     ]
    },
    {
     "name": "stdout",
     "output_type": "stream",
     "text": [
      "Epoch: 103/200..  Training Loss: 0.955..  Test Loss: 1.002..  Test Accuracy: 0.429\n",
      "Epoch: 104/200..  Training Loss: 0.955..  Test Loss: 1.002..  Test Accuracy: 0.428\n",
      "Epoch: 105/200..  Training Loss: 0.954..  Test Loss: 1.002..  Test Accuracy: 0.428\n",
      "Epoch: 106/200..  Training Loss: 0.954..  Test Loss: 1.002..  Test Accuracy: 0.428\n",
      "Epoch: 107/200..  Training Loss: 0.954..  Test Loss: 1.002..  Test Accuracy: 0.428\n",
      "Epoch: 108/200..  Training Loss: 0.953..  Test Loss: 1.002..  Test Accuracy: 0.428\n",
      "Epoch: 109/200..  Training Loss: 0.952..  Test Loss: 1.002..  Test Accuracy: 0.428\n",
      "Epoch: 110/200..  Training Loss: 0.952..  Test Loss: 1.002..  Test Accuracy: 0.427\n",
      "Epoch: 111/200..  Training Loss: 0.952..  Test Loss: 1.002..  Test Accuracy: 0.427\n",
      "Epoch: 112/200..  Training Loss: 0.951..  Test Loss: 1.002..  Test Accuracy: 0.427\n",
      "Epoch: 113/200..  Training Loss: 0.951..  Test Loss: 1.002..  Test Accuracy: 0.427\n",
      "Epoch: 114/200..  Training Loss: 0.951..  Test Loss: 1.002..  Test Accuracy: 0.427\n",
      "Epoch: 115/200..  Training Loss: 0.950..  Test Loss: 1.002..  Test Accuracy: 0.427\n",
      "Epoch: 116/200..  Training Loss: 0.950..  Test Loss: 1.002..  Test Accuracy: 0.427\n",
      "Epoch: 117/200..  Training Loss: 0.951..  Test Loss: 1.002..  Test Accuracy: 0.426\n",
      "Epoch: 118/200..  Training Loss: 0.950..  Test Loss: 1.002..  Test Accuracy: 0.426\n",
      "Epoch: 119/200..  Training Loss: 0.949..  Test Loss: 1.002..  Test Accuracy: 0.426\n",
      "Epoch: 120/200..  Training Loss: 0.949..  Test Loss: 1.002..  Test Accuracy: 0.425\n",
      "Epoch: 121/200..  Training Loss: 0.949..  Test Loss: 1.002..  Test Accuracy: 0.425\n",
      "Epoch: 122/200..  Training Loss: 0.949..  Test Loss: 1.002..  Test Accuracy: 0.424\n",
      "Epoch: 123/200..  Training Loss: 0.948..  Test Loss: 1.002..  Test Accuracy: 0.424\n",
      "Epoch: 124/200..  Training Loss: 0.948..  Test Loss: 1.002..  Test Accuracy: 0.424\n",
      "Epoch: 125/200..  Training Loss: 0.948..  Test Loss: 1.002..  Test Accuracy: 0.424\n",
      "Epoch: 126/200..  Training Loss: 0.947..  Test Loss: 1.002..  Test Accuracy: 0.424\n",
      "Epoch: 127/200..  Training Loss: 0.947..  Test Loss: 1.002..  Test Accuracy: 0.424\n",
      "Epoch: 128/200..  Training Loss: 0.947..  Test Loss: 1.002..  Test Accuracy: 0.424\n",
      "Epoch: 129/200..  Training Loss: 0.946..  Test Loss: 1.002..  Test Accuracy: 0.423\n",
      "Epoch: 130/200..  Training Loss: 0.946..  Test Loss: 1.002..  Test Accuracy: 0.422\n",
      "Epoch: 131/200..  Training Loss: 0.946..  Test Loss: 1.002..  Test Accuracy: 0.422\n",
      "Epoch: 132/200..  Training Loss: 0.946..  Test Loss: 1.003..  Test Accuracy: 0.421\n",
      "Epoch: 133/200..  Training Loss: 0.945..  Test Loss: 1.003..  Test Accuracy: 0.421\n",
      "Epoch: 134/200..  Training Loss: 0.945..  Test Loss: 1.003..  Test Accuracy: 0.421\n",
      "Epoch: 135/200..  Training Loss: 0.945..  Test Loss: 1.003..  Test Accuracy: 0.421\n",
      "Epoch: 136/200..  Training Loss: 0.945..  Test Loss: 1.003..  Test Accuracy: 0.420\n",
      "Epoch: 137/200..  Training Loss: 0.944..  Test Loss: 1.003..  Test Accuracy: 0.420\n",
      "Epoch: 138/200..  Training Loss: 0.944..  Test Loss: 1.003..  Test Accuracy: 0.420\n",
      "Epoch: 139/200..  Training Loss: 0.943..  Test Loss: 1.003..  Test Accuracy: 0.420\n",
      "Epoch: 140/200..  Training Loss: 0.943..  Test Loss: 1.003..  Test Accuracy: 0.420\n",
      "Epoch: 141/200..  Training Loss: 0.943..  Test Loss: 1.003..  Test Accuracy: 0.420\n",
      "Epoch: 142/200..  Training Loss: 0.942..  Test Loss: 1.003..  Test Accuracy: 0.420\n",
      "Epoch: 143/200..  Training Loss: 0.942..  Test Loss: 1.003..  Test Accuracy: 0.420\n",
      "Epoch: 144/200..  Training Loss: 0.942..  Test Loss: 1.003..  Test Accuracy: 0.420\n",
      "Epoch: 145/200..  Training Loss: 0.942..  Test Loss: 1.003..  Test Accuracy: 0.420\n",
      "Epoch: 146/200..  Training Loss: 0.941..  Test Loss: 1.003..  Test Accuracy: 0.420\n",
      "Epoch: 147/200..  Training Loss: 0.941..  Test Loss: 1.003..  Test Accuracy: 0.420\n",
      "Epoch: 148/200..  Training Loss: 0.940..  Test Loss: 1.003..  Test Accuracy: 0.420\n",
      "Epoch: 149/200..  Training Loss: 0.940..  Test Loss: 1.003..  Test Accuracy: 0.419\n",
      "Epoch: 150/200..  Training Loss: 0.940..  Test Loss: 1.003..  Test Accuracy: 0.419\n",
      "Epoch: 151/200..  Training Loss: 0.940..  Test Loss: 1.003..  Test Accuracy: 0.419\n",
      "Epoch: 152/200..  Training Loss: 0.940..  Test Loss: 1.003..  Test Accuracy: 0.419\n",
      "Epoch: 153/200..  Training Loss: 0.939..  Test Loss: 1.003..  Test Accuracy: 0.419\n",
      "Epoch: 154/200..  Training Loss: 0.939..  Test Loss: 1.003..  Test Accuracy: 0.419\n",
      "Epoch: 155/200..  Training Loss: 0.938..  Test Loss: 1.003..  Test Accuracy: 0.419\n",
      "Epoch: 156/200..  Training Loss: 0.938..  Test Loss: 1.003..  Test Accuracy: 0.419\n",
      "Epoch: 157/200..  Training Loss: 0.938..  Test Loss: 1.003..  Test Accuracy: 0.419\n",
      "Epoch: 158/200..  Training Loss: 0.938..  Test Loss: 1.003..  Test Accuracy: 0.419\n",
      "Epoch: 159/200..  Training Loss: 0.937..  Test Loss: 1.003..  Test Accuracy: 0.419\n",
      "Epoch: 160/200..  Training Loss: 0.937..  Test Loss: 1.003..  Test Accuracy: 0.419\n",
      "Epoch: 161/200..  Training Loss: 0.937..  Test Loss: 1.003..  Test Accuracy: 0.419\n",
      "Epoch: 162/200..  Training Loss: 0.936..  Test Loss: 1.003..  Test Accuracy: 0.418\n",
      "Epoch: 163/200..  Training Loss: 0.936..  Test Loss: 1.004..  Test Accuracy: 0.418\n",
      "Epoch: 164/200..  Training Loss: 0.936..  Test Loss: 1.004..  Test Accuracy: 0.418\n",
      "Epoch: 165/200..  Training Loss: 0.935..  Test Loss: 1.004..  Test Accuracy: 0.418\n",
      "Epoch: 166/200..  Training Loss: 0.935..  Test Loss: 1.004..  Test Accuracy: 0.418\n",
      "Epoch: 167/200..  Training Loss: 0.934..  Test Loss: 1.004..  Test Accuracy: 0.417\n",
      "Epoch: 168/200..  Training Loss: 0.934..  Test Loss: 1.004..  Test Accuracy: 0.417\n",
      "Epoch: 169/200..  Training Loss: 0.934..  Test Loss: 1.004..  Test Accuracy: 0.417\n",
      "Epoch: 170/200..  Training Loss: 0.933..  Test Loss: 1.004..  Test Accuracy: 0.417\n",
      "Epoch: 171/200..  Training Loss: 0.933..  Test Loss: 1.004..  Test Accuracy: 0.417\n",
      "Epoch: 172/200..  Training Loss: 0.933..  Test Loss: 1.004..  Test Accuracy: 0.417\n",
      "Epoch: 173/200..  Training Loss: 0.932..  Test Loss: 1.004..  Test Accuracy: 0.417\n",
      "Epoch: 174/200..  Training Loss: 0.932..  Test Loss: 1.004..  Test Accuracy: 0.417\n",
      "Epoch: 175/200..  Training Loss: 0.932..  Test Loss: 1.004..  Test Accuracy: 0.417\n",
      "Epoch: 176/200..  Training Loss: 0.931..  Test Loss: 1.004..  Test Accuracy: 0.417\n",
      "Epoch: 177/200..  Training Loss: 0.931..  Test Loss: 1.004..  Test Accuracy: 0.417\n",
      "Epoch: 178/200..  Training Loss: 0.931..  Test Loss: 1.004..  Test Accuracy: 0.417\n",
      "Epoch: 179/200..  Training Loss: 0.930..  Test Loss: 1.004..  Test Accuracy: 0.417\n",
      "Epoch: 180/200..  Training Loss: 0.930..  Test Loss: 1.004..  Test Accuracy: 0.417\n",
      "Epoch: 181/200..  Training Loss: 0.929..  Test Loss: 1.004..  Test Accuracy: 0.417\n",
      "Epoch: 182/200..  Training Loss: 0.929..  Test Loss: 1.004..  Test Accuracy: 0.417\n",
      "Epoch: 183/200..  Training Loss: 0.929..  Test Loss: 1.005..  Test Accuracy: 0.417\n",
      "Epoch: 184/200..  Training Loss: 0.929..  Test Loss: 1.005..  Test Accuracy: 0.416\n",
      "Epoch: 185/200..  Training Loss: 0.928..  Test Loss: 1.005..  Test Accuracy: 0.416\n",
      "Epoch: 186/200..  Training Loss: 0.928..  Test Loss: 1.005..  Test Accuracy: 0.416\n",
      "Epoch: 187/200..  Training Loss: 0.927..  Test Loss: 1.005..  Test Accuracy: 0.417\n",
      "Epoch: 188/200..  Training Loss: 0.927..  Test Loss: 1.005..  Test Accuracy: 0.417\n",
      "Epoch: 189/200..  Training Loss: 0.927..  Test Loss: 1.005..  Test Accuracy: 0.416\n",
      "Epoch: 190/200..  Training Loss: 0.926..  Test Loss: 1.005..  Test Accuracy: 0.416\n",
      "Epoch: 191/200..  Training Loss: 0.926..  Test Loss: 1.005..  Test Accuracy: 0.416\n",
      "Epoch: 192/200..  Training Loss: 0.925..  Test Loss: 1.005..  Test Accuracy: 0.417\n",
      "Epoch: 193/200..  Training Loss: 0.925..  Test Loss: 1.005..  Test Accuracy: 0.417\n",
      "Epoch: 194/200..  Training Loss: 0.924..  Test Loss: 1.005..  Test Accuracy: 0.417\n",
      "Epoch: 195/200..  Training Loss: 0.924..  Test Loss: 1.005..  Test Accuracy: 0.416\n",
      "Epoch: 196/200..  Training Loss: 0.924..  Test Loss: 1.005..  Test Accuracy: 0.416\n",
      "Epoch: 197/200..  Training Loss: 0.923..  Test Loss: 1.005..  Test Accuracy: 0.416\n",
      "Epoch: 198/200..  Training Loss: 0.923..  Test Loss: 1.005..  Test Accuracy: 0.416\n",
      "Epoch: 199/200..  Training Loss: 0.923..  Test Loss: 1.005..  Test Accuracy: 0.415\n",
      "Epoch: 200/200..  Training Loss: 0.922..  Test Loss: 1.006..  Test Accuracy: 0.415\n",
      "CPU times: total: 2min 9s\n",
      "Wall time: 32.9 s\n"
     ]
    }
   ],
   "source": [
    "%%time\n",
    "train_losses = []\n",
    "test_losses = []\n",
    "test_accuracies = []\n",
    "\n",
    "epochs = 200\n",
    "for e in range(epochs):\n",
    "    optimizer.zero_grad()\n",
    "\n",
    "    output = model.forward(x_train) #Forward pass, get the logits\n",
    "    loss = criterion(output, y_train) # Calculate the loss with the logits and the labels\n",
    "    loss.backward()\n",
    "    train_loss = loss.item()\n",
    "    train_losses.append(train_loss)\n",
    "    \n",
    "    optimizer.step()\n",
    "\n",
    "    # Turn off gradients for validation, saves memory and computations\n",
    "    with torch.no_grad():\n",
    "        model.eval()\n",
    "        log_ps = model.forward(x_test)\n",
    "        test_loss = criterion(log_ps, y_test)\n",
    "        test_losses.append(test_loss)\n",
    "\n",
    "        ps = torch.exp(log_ps)\n",
    "        top_p, top_class  = ps.topk(1, dim=1)\n",
    "        equals = top_class == y_test.view(*top_class.shape)\n",
    "        test_accuracy = torch.mean(equals.float())\n",
    "        test_accuracies.append(test_accuracy)\n",
    "\n",
    "    model.train()\n",
    "\n",
    "    print(f\"Epoch: {e+1}/{epochs}.. \",\n",
    "          f\"Training Loss: {train_loss:.3f}.. \",\n",
    "          f\"Test Loss: {test_loss:.3f}.. \",\n",
    "          f\"Test Accuracy: {test_accuracy:.3f}\")\n",
    "#     scheduler.step(test_loss/len(y_test))"
   ]
  },
  {
   "cell_type": "code",
   "execution_count": 13,
   "id": "e88e68cc",
   "metadata": {},
   "outputs": [
    {
     "data": {
      "text/plain": [
       "tensor([1])"
      ]
     },
     "execution_count": 13,
     "metadata": {},
     "output_type": "execute_result"
    }
   ],
   "source": [
    "preds = model.forward(x_test)\n",
    "preds = topk_encoding(preds)\n",
    "preds[1]"
   ]
  },
  {
   "cell_type": "code",
   "execution_count": 14,
   "id": "f8eeb002",
   "metadata": {},
   "outputs": [
    {
     "data": {
      "text/plain": [
       "0.4120785103170609"
      ]
     },
     "execution_count": 14,
     "metadata": {},
     "output_type": "execute_result"
    }
   ],
   "source": [
    "acc_score = accuracy_score(y_test, preds)\n",
    "acc_score"
   ]
  },
  {
   "cell_type": "code",
   "execution_count": 15,
   "id": "90b29486",
   "metadata": {},
   "outputs": [
    {
     "data": {
      "text/plain": [
       "0.3114127848675836"
      ]
     },
     "execution_count": 15,
     "metadata": {},
     "output_type": "execute_result"
    }
   ],
   "source": [
    "f1_score = f1_score(y_test, preds, average='macro')\n",
    "f1_score"
   ]
  },
  {
   "cell_type": "markdown",
   "id": "28fd926b",
   "metadata": {},
   "source": [
    "### ML Pipeline"
   ]
  },
  {
   "cell_type": "code",
   "execution_count": 16,
   "id": "dcf44235",
   "metadata": {},
   "outputs": [],
   "source": [
    "def to_lower(message):\n",
    "    result = message.lower()\n",
    "    return result\n",
    "\n",
    "def remove_num(message):\n",
    "    result = re.sub(r'\\d+','',message)\n",
    "    return result\n",
    "\n",
    "def contractions(message):\n",
    "     result = re.sub(r\"won't\", \"will not\",message)\n",
    "     result = re.sub(r\"would't\", \"would not\",message)\n",
    "     result = re.sub(r\"could't\", \"could not\",message)\n",
    "     result = re.sub(r\"\\'d\", \" would\",message)\n",
    "     result = re.sub(r\"can\\'t\", \"can not\",message)\n",
    "     result = re.sub(r\"n\\'t\", \" not\", message)\n",
    "     result = re.sub(r\"\\'re\", \" are\", message)\n",
    "     result = re.sub(r\"\\'s\", \" is\", message)\n",
    "     result = re.sub(r\"\\'ll\", \" will\", message)\n",
    "     result = re.sub(r\"\\'t\", \" not\", message)\n",
    "     result = re.sub(r\"\\'ve\", \" have\", message)\n",
    "     result = re.sub(r\"\\'m\", \" am\", message)\n",
    "     return result\n",
    "    \n",
    "def remove_punctuation(message):\n",
    "    result = message.translate(str.maketrans(dict.fromkeys(string.punctuation)))\n",
    "    return result\n",
    "\n",
    "def remove_whitespace(message):\n",
    "    result = message.strip()\n",
    "    result = re.sub(' +',' ',message)\n",
    "    return result\n",
    "\n",
    "def replace_newline(message):\n",
    "    result = message.replace('\\n','')\n",
    "    return result\n",
    "\n",
    "def data_cleanup(message):\n",
    "    cleaning_utils = [to_lower, remove_num, contractions, remove_punctuation, remove_whitespace, replace_newline]\n",
    "    for util in cleaning_utils:\n",
    "        message = util(message)\n",
    "    return message\n"
   ]
  },
  {
   "cell_type": "code",
   "execution_count": 17,
   "id": "dc4ef20a",
   "metadata": {},
   "outputs": [],
   "source": [
    "def input_vectorizer(message):\n",
    "    \"\"\"\n",
    "    Function to predict the category of inputted message\n",
    "    \"\"\"\n",
    "    \n",
    "    cleaned_message = pd.Series(message).apply(lambda x: data_cleanup(x))\n",
    "    vec = vectorizer.transform(pd.Series(cleaned_message))\n",
    "    vec = torch.tensor(scipy.sparse.csr_matrix.todense(vec)).float()\n",
    "    preds = model.forward(vec)\n",
    "    category = topk_encoding(preds).detach().cpu().numpy()\n",
    "    \n",
    "    return int(category[0])"
   ]
  },
  {
   "cell_type": "code",
   "execution_count": 18,
   "id": "77790728",
   "metadata": {},
   "outputs": [
    {
     "data": {
      "text/plain": [
       "1"
      ]
     },
     "execution_count": 18,
     "metadata": {},
     "output_type": "execute_result"
    }
   ],
   "source": [
    "a = input_vectorizer(\"fly to the sky to go back after a year on september.\")\n",
    "a\n"
   ]
  },
  {
   "cell_type": "code",
   "execution_count": 19,
   "id": "77bcfd0a",
   "metadata": {},
   "outputs": [
    {
     "data": {
      "text/plain": [
       "0"
      ]
     },
     "execution_count": 19,
     "metadata": {},
     "output_type": "execute_result"
    }
   ],
   "source": [
    "b = input_vectorizer(\"the item is not good, waste of money\")\n",
    "b\n"
   ]
  }
 ],
 "metadata": {
  "kernelspec": {
   "display_name": "Python 3 (ipykernel)",
   "language": "python",
   "name": "python3"
  },
  "language_info": {
   "codemirror_mode": {
    "name": "ipython",
    "version": 3
   },
   "file_extension": ".py",
   "mimetype": "text/x-python",
   "name": "python",
   "nbconvert_exporter": "python",
   "pygments_lexer": "ipython3",
   "version": "3.10.7"
  }
 },
 "nbformat": 4,
 "nbformat_minor": 5
}
